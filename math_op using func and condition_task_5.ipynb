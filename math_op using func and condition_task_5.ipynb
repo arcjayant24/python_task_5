{
 "cells": [
  {
   "cell_type": "markdown",
   "metadata": {},
   "source": [
    "## Task_5.1:- math operation using function and condition (val1,val2,op)"
   ]
  },
  {
   "cell_type": "code",
   "execution_count": 3,
   "metadata": {},
   "outputs": [
    {
     "name": "stdout",
     "output_type": "stream",
     "text": [
      "addition = 1000\n",
      "subtraction = 500\n",
      "multiplication = 10000\n",
      "division = 50.0\n"
     ]
    }
   ],
   "source": [
    "def math_operation (val1,val2,op):\n",
    "    result = val1 + val2\n",
    "    result1 = val1 - val2\n",
    "    result2 = val1 * val2\n",
    "    result3 = val1 / val2\n",
    "    if op == 'addition':\n",
    "        return result\n",
    "    elif op == 'subtraction':\n",
    "        return result1\n",
    "    elif op == 'multiplication':\n",
    "        return result2\n",
    "    elif op == 'division':\n",
    "        return result3\n",
    "    else:\n",
    "        return 'operation not define'\n",
    "    \n",
    "\n",
    "addition = math_operation(500,500,'addition')\n",
    "subtraction = math_operation(1000,500,'subtraction')\n",
    "multiplication = math_operation(1000,10,'multiplication')\n",
    "division = math_operation(500,10,'division')\n",
    "\n",
    "\n",
    "print(f'addition = {addition}')\n",
    "print(f'subtraction = {subtraction}')\n",
    "print(f'multiplication = {multiplication}')\n",
    "print(f'division = {division}')"
   ]
  },
  {
   "cell_type": "markdown",
   "metadata": {},
   "source": [
    "## Task_5.2 :- print * pyramid pattern"
   ]
  },
  {
   "cell_type": "code",
   "execution_count": 16,
   "metadata": {},
   "outputs": [
    {
     "name": "stdout",
     "output_type": "stream",
     "text": [
      "         *\n",
      "        ***\n",
      "       *****\n",
      "      *******\n",
      "     *********\n"
     ]
    }
   ],
   "source": [
    "j = 9\n",
    "for i in range(1,10,2):\n",
    "    print(j * ' ' + i * '*')\n",
    "    j=j-1"
   ]
  }
 ],
 "metadata": {
  "kernelspec": {
   "display_name": "Python 3",
   "language": "python",
   "name": "python3"
  },
  "language_info": {
   "codemirror_mode": {
    "name": "ipython",
    "version": 3
   },
   "file_extension": ".py",
   "mimetype": "text/x-python",
   "name": "python",
   "nbconvert_exporter": "python",
   "pygments_lexer": "ipython3",
   "version": "3.12.4"
  }
 },
 "nbformat": 4,
 "nbformat_minor": 2
}
